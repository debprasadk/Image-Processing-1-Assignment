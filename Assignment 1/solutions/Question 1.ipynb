{
 "cells": [
  {
   "cell_type": "markdown",
   "id": "2baa045d",
   "metadata": {},
   "source": [
    "# Consider an electric bill calculation system. Take input of entire customer details i.e. the customer name, customer id, and account name and print the final calculated bill. The tariff for the units consumed are:\n",
    "            Up to 100 units\tRs 10 per unit\n",
    "            Up to 150 units\tRs 15 per unit\n",
    "            Up to 200 units\tRs 22 per unit\n",
    "            More than 200 units\tRs 30 per unit\n",
    "Calculate the amount chargeable and display the Customer details and bill amount in tabulated form."
   ]
  },
  {
   "cell_type": "markdown",
   "id": "4b054ec1",
   "metadata": {},
   "source": []
  },
  {
   "cell_type": "markdown",
   "id": "0a5cc8ab",
   "metadata": {},
   "source": [
    "# Required Functions"
   ]
  },
  {
   "cell_type": "code",
   "execution_count": 1,
   "id": "5f60b523",
   "metadata": {},
   "outputs": [],
   "source": [
    "def First_slot(x):\n",
    "    return 10 * x\n",
    "def Second_slot(x):\n",
    "    return 10 * 100 + 15 * (x - 100)\n",
    "def Third_slot(x):\n",
    "    return 10 * 100 + 15 * 50 + 22 * (x - 150)\n",
    "def Last_slot(x):\n",
    "    return 10 * 100 + 15 * 50 + 22 * 50 + 30 * (x - 200)"
   ]
  },
  {
   "cell_type": "markdown",
   "id": "7bd151ea",
   "metadata": {},
   "source": [
    "# Taking input"
   ]
  },
  {
   "cell_type": "code",
   "execution_count": 2,
   "id": "21d9dea1",
   "metadata": {},
   "outputs": [
    {
     "name": "stdout",
     "output_type": "stream",
     "text": [
      "Name: Binay Biswas\n",
      "Customer ID: 1574269101\n",
      "Account Name: B.Binay\n",
      "Units Consumed: 175\n"
     ]
    }
   ],
   "source": [
    "Name = input(\"Name: \")\n",
    "Customer_ID = int(input(\"Customer ID: \"))\n",
    "Account_Name = input(\"Account Name: \")\n",
    "Units_Consumed = int(input(\"Units Consumed: \"))"
   ]
  },
  {
   "cell_type": "markdown",
   "id": "a2bca4b4",
   "metadata": {},
   "source": [
    "# Calculate Amount Chargable"
   ]
  },
  {
   "cell_type": "code",
   "execution_count": 3,
   "id": "e2696bed",
   "metadata": {},
   "outputs": [],
   "source": [
    "if Units_Consumed <= 100:\n",
    "    Amount_Chargeable = First_slot(Units_Consumed)\n",
    "elif Units_Consumed <= 150:\n",
    "    Amount_Chargeable = Second_slot(Units_Consumed)\n",
    "elif Units_Consumed <= 200:\n",
    "    Amount_Chargeable = Third_slot(Units_Consumed)\n",
    "else:\n",
    "    Amount_Chargeable = Last_slot(Units_Consumed)"
   ]
  },
  {
   "cell_type": "markdown",
   "id": "e9cbc24c",
   "metadata": {},
   "source": [
    "# Output"
   ]
  },
  {
   "cell_type": "code",
   "execution_count": 9,
   "id": "be10b77e",
   "metadata": {},
   "outputs": [
    {
     "name": "stdout",
     "output_type": "stream",
     "text": [
      "Name\tCustomer ID\tAccount Name\tUnits Consumed\tAmount Chargeable\n",
      "Binay Biswas\t1574269101\tB.Binay\t175\tRs 2300\n"
     ]
    }
   ],
   "source": [
    "print(\"Name\\tCustomer ID\\tAccount Name\\tUnits Consumed\\tAmount Chargeable\")\n",
    "print(f\"{Name}\\t{Customer_ID}\\t{Account_Name}\\t{Units_Consumed}\\tRs {Amount_Chargeable}\")"
   ]
  },
  {
   "cell_type": "code",
   "execution_count": null,
   "id": "b8b6d6d2",
   "metadata": {},
   "outputs": [],
   "source": []
  }
 ],
 "metadata": {
  "kernelspec": {
   "display_name": "Python 3 (ipykernel)",
   "language": "python",
   "name": "python3"
  },
  "language_info": {
   "codemirror_mode": {
    "name": "ipython",
    "version": 3
   },
   "file_extension": ".py",
   "mimetype": "text/x-python",
   "name": "python",
   "nbconvert_exporter": "python",
   "pygments_lexer": "ipython3",
   "version": "3.9.7"
  }
 },
 "nbformat": 4,
 "nbformat_minor": 5
}
