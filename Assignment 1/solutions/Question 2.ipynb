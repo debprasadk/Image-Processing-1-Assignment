{
 "cells": [
  {
   "cell_type": "markdown",
   "id": "5d618d78",
   "metadata": {},
   "source": [
    "# Write a function sumprimes(L) that takes as input a list of integers L and returns the sum of all the prime numbers in L. Each element, e of the list is checked for being prime or not by a function isprime(e). "
   ]
  },
  {
   "cell_type": "markdown",
   "id": "34f9c016",
   "metadata": {},
   "source": []
  },
  {
   "cell_type": "markdown",
   "id": "4edf023e",
   "metadata": {},
   "source": [
    "# Importing required library"
   ]
  },
  {
   "cell_type": "code",
   "execution_count": 1,
   "id": "94c8991f",
   "metadata": {},
   "outputs": [],
   "source": [
    "from math import sqrt"
   ]
  },
  {
   "cell_type": "markdown",
   "id": "1ab7f5d2",
   "metadata": {},
   "source": [
    "# Required Functions"
   ]
  },
  {
   "cell_type": "code",
   "execution_count": 2,
   "id": "6139061b",
   "metadata": {},
   "outputs": [],
   "source": [
    "def isprime(e):\n",
    "    x = int(sqrt(e))\n",
    "    for i in range(2, x+1):\n",
    "        if e % i == 0:\n",
    "            return 0\n",
    "    return 1"
   ]
  },
  {
   "cell_type": "code",
   "execution_count": 3,
   "id": "8137f3fb",
   "metadata": {},
   "outputs": [],
   "source": [
    "def sumprimes(L):\n",
    "    sum = 0\n",
    "    for i in range(len(L)):\n",
    "        if 1 == isprime(L[i]):\n",
    "            sum += L[i]\n",
    "    return sum"
   ]
  },
  {
   "cell_type": "markdown",
   "id": "0e36e171",
   "metadata": {},
   "source": [
    "# Taking inputs"
   ]
  },
  {
   "cell_type": "code",
   "execution_count": 4,
   "id": "e4e1fc4b",
   "metadata": {},
   "outputs": [
    {
     "name": "stdout",
     "output_type": "stream",
     "text": [
      "N = 6\n",
      "L = (56, 17, 59, 64, 83)\n"
     ]
    }
   ],
   "source": [
    "N = int(input('N = '))\n",
    "l = input('L = ').strip('()')\n",
    "L = list(map(int, l.split(',')))"
   ]
  },
  {
   "cell_type": "code",
   "execution_count": 5,
   "id": "ae5d8a91",
   "metadata": {},
   "outputs": [],
   "source": [
    "sum = sumprimes(L)"
   ]
  },
  {
   "cell_type": "markdown",
   "id": "1baa64db",
   "metadata": {},
   "source": [
    "# Output"
   ]
  },
  {
   "cell_type": "code",
   "execution_count": 6,
   "id": "a9a75355",
   "metadata": {},
   "outputs": [
    {
     "name": "stdout",
     "output_type": "stream",
     "text": [
      "sum = 159\n"
     ]
    }
   ],
   "source": [
    "print(f\"sum = {sum}\")"
   ]
  }
 ],
 "metadata": {
  "kernelspec": {
   "display_name": "Python 3 (ipykernel)",
   "language": "python",
   "name": "python3"
  },
  "language_info": {
   "codemirror_mode": {
    "name": "ipython",
    "version": 3
   },
   "file_extension": ".py",
   "mimetype": "text/x-python",
   "name": "python",
   "nbconvert_exporter": "python",
   "pygments_lexer": "ipython3",
   "version": "3.9.7"
  }
 },
 "nbformat": 4,
 "nbformat_minor": 5
}
