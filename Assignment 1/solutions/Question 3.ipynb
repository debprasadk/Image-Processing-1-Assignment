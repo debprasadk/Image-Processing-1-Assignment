{
 "cells": [
  {
   "cell_type": "markdown",
   "id": "d2ed8947",
   "metadata": {},
   "source": [
    "# 3.\tCalculate the total cost for a pay-as-you-go service availed based on the number of days and additional hours. The timestamp is taken in ‘dd-mm-yyyy hh:mm:ss’ format. There is a staring timestamp and an ending timestamp. Calculate the number of days and hours elapsed between the two timestamps. The chargeable amount for the service needs to be calculated. The following is the tariff details: \n",
    "\n",
    "  1 Day (i.e. 24 hours): Rs 23; \n",
    "  1 hour: Rs 1"
   ]
  },
  {
   "cell_type": "code",
   "execution_count": null,
   "id": "6fedc567",
   "metadata": {},
   "outputs": [],
   "source": []
  },
  {
   "cell_type": "code",
   "execution_count": 1,
   "id": "6fd2cdd4",
   "metadata": {},
   "outputs": [],
   "source": [
    "def leapyear(year):\n",
    "    return (year % 4 == 0 and year % 100 != 0) or year % 400 == 0"
   ]
  },
  {
   "cell_type": "code",
   "execution_count": 2,
   "id": "0969bee9",
   "metadata": {},
   "outputs": [
    {
     "name": "stdout",
     "output_type": "stream",
     "text": [
      "Start timestamp:20-03-2022 20:15:36\n",
      "End timestamp:21-04-2022 02:14:37\n"
     ]
    }
   ],
   "source": [
    "start_date, start_time = input(\"Start timestamp:\").split()\n",
    "end_date, end_time = input(\"End timestamp:\").split()"
   ]
  },
  {
   "cell_type": "code",
   "execution_count": 3,
   "id": "d65c0e34",
   "metadata": {},
   "outputs": [
    {
     "name": "stdout",
     "output_type": "stream",
     "text": [
      "end : 37 sec 14 min 2 hour 21 day 4 month 2022 year\n",
      "start : 36 sec 15 min 20 hour 20 day 3 month 2022 year\n"
     ]
    }
   ],
   "source": [
    "day1, mon1, year1 = map(int,start_date.split('-'))\n",
    "hour1, min1, sec1 = map(int, start_time.split(':'))\n",
    "day2, mon2, year2 = map(int, end_date.split('-'))\n",
    "hour2, min2, sec2 = map(int, end_time.split(':'))\n",
    "print(f\"end : {sec2} sec {min2} min {hour2} hour {day2} day {mon2} month {year2} year\")\n",
    "print(f\"start : {sec1} sec {min1} min {hour1} hour {day1} day {mon1} month {year1} year\")"
   ]
  },
  {
   "cell_type": "code",
   "execution_count": 4,
   "id": "8fbf7ccf",
   "metadata": {},
   "outputs": [],
   "source": [
    "if sec2 >= sec1:\n",
    "    sec = sec2 - sec1\n",
    "else:\n",
    "    sec = sec2 + 60 - sec1\n",
    "    mon1 = mon1 + 1"
   ]
  },
  {
   "cell_type": "code",
   "execution_count": 5,
   "id": "6e1513af",
   "metadata": {},
   "outputs": [],
   "source": [
    "if min2 >= min1:\n",
    "    min = min2 - min1\n",
    "else:\n",
    "    min = min2 + 60 - min1\n",
    "    hour1 = hour1 + 1"
   ]
  },
  {
   "cell_type": "code",
   "execution_count": 6,
   "id": "a6fc8764",
   "metadata": {},
   "outputs": [],
   "source": [
    "if hour2 >= hour1:\n",
    "    hour = hour2 - hour1\n",
    "else:\n",
    "    hour = hour2 + 24 - hour1\n",
    "    day1 = day1 + 1"
   ]
  },
  {
   "cell_type": "code",
   "execution_count": 7,
   "id": "48827bf1",
   "metadata": {},
   "outputs": [],
   "source": [
    "day_count = [31, 28, 31, 30, 31, 30, 31, 31, 30, 31, 30, 31]\n",
    "if day2 >= day1:\n",
    "    day = day2 - day1\n",
    "else:\n",
    "    if mon1 != 2:\n",
    "        day = day2 + day_count[mon1 + 1] - day1\n",
    "    else:\n",
    "        if leapyear(year1):\n",
    "            day = day2 + 29 - day1\n",
    "        else:\n",
    "            day = day2 + 28 - day1\n",
    "    \n",
    "    mon1 = mon1 + 1"
   ]
  },
  {
   "cell_type": "code",
   "execution_count": 8,
   "id": "91c872d2",
   "metadata": {},
   "outputs": [],
   "source": [
    "day_mon = 0\n",
    "if mon2 >= mon1:\n",
    "    mon = mon2 - mon1\n",
    "    for i in range (mon1, mon2):\n",
    "        day_mon += day_count[i + 1]\n",
    "    if mon1 < 3 and leapyear(year1):\n",
    "        day_mon += 1\n",
    "else:\n",
    "    mon = mon2 + 12 - mon1\n",
    "    for i in range (mon1, 13):\n",
    "        day_mon += day_count[i + 1]\n",
    "    for i in range(mon2):\n",
    "        day_mon += day_count[i + 1]\n",
    "    if mon1 < 3 and leapyear(year1):\n",
    "        day_mon += 1\n",
    "    if mon2 > 2 and leapyear(year2):\n",
    "        day_mon += 1\n",
    "    year1 = year1 + 1"
   ]
  },
  {
   "cell_type": "code",
   "execution_count": 9,
   "id": "085a4ebe",
   "metadata": {},
   "outputs": [],
   "source": [
    "day_year = 0\n",
    "year = year2 - year1\n",
    "for i in range (year1, year2):\n",
    "    if leapyear(i):\n",
    "        if (i == year1 and mon1 < 3) or (i == year2 and mon2 > 3):\n",
    "            day_year += 366\n",
    "        else:\n",
    "            day_year += 365\n",
    "    else:\n",
    "        day_year += 365"
   ]
  },
  {
   "cell_type": "code",
   "execution_count": 10,
   "id": "7e2455dd",
   "metadata": {},
   "outputs": [],
   "source": [
    "total_day = day + day_mon + day_year\n",
    "if sec + min > 0:\n",
    "    hour += 1\n",
    "if hour == 24 :\n",
    "    hour = 0\n",
    "    total_day += 1\n",
    "pay = total_day * 23 + hour * 1"
   ]
  },
  {
   "cell_type": "code",
   "execution_count": 11,
   "id": "3bf1a32e",
   "metadata": {},
   "outputs": [
    {
     "name": "stdout",
     "output_type": "stream",
     "text": [
      "Chargeable amount: Rs 719\n"
     ]
    }
   ],
   "source": [
    "print(f\"Chargeable amount: Rs {pay}\")"
   ]
  },
  {
   "cell_type": "code",
   "execution_count": null,
   "id": "37643a4f",
   "metadata": {},
   "outputs": [],
   "source": []
  }
 ],
 "metadata": {
  "kernelspec": {
   "display_name": "Python 3 (ipykernel)",
   "language": "python",
   "name": "python3"
  },
  "language_info": {
   "codemirror_mode": {
    "name": "ipython",
    "version": 3
   },
   "file_extension": ".py",
   "mimetype": "text/x-python",
   "name": "python",
   "nbconvert_exporter": "python",
   "pygments_lexer": "ipython3",
   "version": "3.9.7"
  }
 },
 "nbformat": 4,
 "nbformat_minor": 5
}
