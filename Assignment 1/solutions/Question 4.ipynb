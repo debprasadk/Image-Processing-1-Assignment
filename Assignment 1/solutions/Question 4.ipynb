{
 "cells": [
  {
   "cell_type": "markdown",
   "id": "9d3ece7a",
   "metadata": {},
   "source": [
    "# Find basin/ plateau in 1D array is present. A plateau is defined as a region of increasing values, followed by at least 2 constant value and a region of decreasing values. A basin is defined as a region of decreasing values, followed by at least 2 constant value and a region of increasing values. A list may have a plateau or basin or none."
   ]
  },
  {
   "cell_type": "markdown",
   "id": "ceeac41f",
   "metadata": {},
   "source": []
  },
  {
   "cell_type": "markdown",
   "id": "6c606c70",
   "metadata": {},
   "source": [
    "# Required functions"
   ]
  },
  {
   "cell_type": "code",
   "execution_count": 1,
   "id": "32bd9984",
   "metadata": {},
   "outputs": [],
   "source": [
    "def plateau(L):\n",
    "    flag = 1\n",
    "    a, b = L[0], L[1]\n",
    "    if a < b:\n",
    "        i = 0\n",
    "        while a < b:\n",
    "            i = i + 1\n",
    "            a, b = L[i], L[i + 1]\n",
    "        if a == b:\n",
    "            while a == b:\n",
    "                i = i + 1\n",
    "                a, b = L[i], L[i + 1]\n",
    "            if a > b:\n",
    "                while a >= b and i < len(L)-2:\n",
    "                    i = i + 1\n",
    "                    a, b = L[i], L[i + 1]\n",
    "                if b != L[len(L) - 1]:\n",
    "                    flag = 0\n",
    "                elif a < b:\n",
    "                    flag = 0               \n",
    "            else:\n",
    "                flag = 0               \n",
    "        else:\n",
    "            flag = 0            \n",
    "    else:\n",
    "        flag = 0\n",
    "        \n",
    "    return flag"
   ]
  },
  {
   "cell_type": "code",
   "execution_count": 2,
   "id": "8265b9db",
   "metadata": {},
   "outputs": [],
   "source": [
    "def basin(L):\n",
    "    flag = 1\n",
    "    a, b = L[0], L[1]\n",
    "    if a > b:\n",
    "        i = 0\n",
    "        while a > b:\n",
    "            i = i + 1\n",
    "            a, b = L[i], L[i + 1]\n",
    "        if a == b:\n",
    "            while a == b:\n",
    "                i = i + 1\n",
    "                a, b = L[i], L[i + 1]\n",
    "            if a < b:\n",
    "                while a <= b and i < len(L)-2:\n",
    "                    i = i + 1\n",
    "                    a, b = L[i], L[i + 1]\n",
    "                if b != L[len(L) - 1]:\n",
    "                    flag = 0\n",
    "                elif a > b:\n",
    "                    flag = 0\n",
    "            else:\n",
    "                flag = 0                \n",
    "        else:\n",
    "            flag = 0            \n",
    "    else:\n",
    "        flag = 0\n",
    "        \n",
    "    return flag"
   ]
  },
  {
   "cell_type": "code",
   "execution_count": 8,
   "id": "11bfc990",
   "metadata": {},
   "outputs": [
    {
     "name": "stdout",
     "output_type": "stream",
     "text": [
      "L = 28, 35, 46, 59, 63, 63, 63, 75, 95\n"
     ]
    }
   ],
   "source": [
    "l = input(\"L = \").split(',')\n",
    "L = list(map(int, l))"
   ]
  },
  {
   "cell_type": "code",
   "execution_count": null,
   "id": "2f20b816",
   "metadata": {},
   "outputs": [],
   "source": []
  },
  {
   "cell_type": "markdown",
   "id": "683de29a",
   "metadata": {},
   "source": [
    "# Output"
   ]
  },
  {
   "cell_type": "code",
   "execution_count": 9,
   "id": "17b8db24",
   "metadata": {},
   "outputs": [
    {
     "name": "stdout",
     "output_type": "stream",
     "text": [
      "Not Defined\n"
     ]
    }
   ],
   "source": [
    "if(basin(L)):\n",
    "    print(\"basin\")\n",
    "elif(plateau(L)):\n",
    "    print(\"plateau\")\n",
    "else:\n",
    "    print(\"Not Defined\")"
   ]
  }
 ],
 "metadata": {
  "kernelspec": {
   "display_name": "Python 3 (ipykernel)",
   "language": "python",
   "name": "python3"
  },
  "language_info": {
   "codemirror_mode": {
    "name": "ipython",
    "version": 3
   },
   "file_extension": ".py",
   "mimetype": "text/x-python",
   "name": "python",
   "nbconvert_exporter": "python",
   "pygments_lexer": "ipython3",
   "version": "3.9.7"
  }
 },
 "nbformat": 4,
 "nbformat_minor": 5
}
