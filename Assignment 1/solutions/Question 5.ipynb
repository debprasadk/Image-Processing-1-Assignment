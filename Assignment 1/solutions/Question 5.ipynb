{
 "cells": [
  {
   "cell_type": "markdown",
   "id": "f572eec1",
   "metadata": {},
   "source": [
    "# Find a position in a 2D array where there is a valley. A valley is a point in a 2D matrix from where the values increases continuously towards the edge of the matrix in all the four directions."
   ]
  },
  {
   "cell_type": "code",
   "execution_count": null,
   "id": "28b9a9b3",
   "metadata": {},
   "outputs": [],
   "source": []
  },
  {
   "cell_type": "code",
   "execution_count": 1,
   "id": "70ab1991",
   "metadata": {},
   "outputs": [
    {
     "name": "stdout",
     "output_type": "stream",
     "text": [
      "No of rows(First dimension):4\n",
      "Enter the elements of row separated by ',' and each rows seperated by '\\n'\n",
      "1,7,9,10\n",
      "13,12,7,15\n",
      "10,19,24,18\n",
      "14,22,35,21\n"
     ]
    }
   ],
   "source": [
    "n = int(input(\"No of rows(First dimension):\")) \n",
    "a = []\n",
    "print(\"Enter the elements of row separated by ',' and each rows seperated by '\\\\n'\")\n",
    "for i in range(n):\n",
    "    a.append(list(map(float, input().split(','))))"
   ]
  },
  {
   "cell_type": "code",
   "execution_count": 2,
   "id": "bdbd2b43",
   "metadata": {},
   "outputs": [],
   "source": [
    "def valley(a):\n",
    "    L = []\n",
    "    flag = 0\n",
    "    for i in range(1, len(a) - 1):\n",
    "        for j in range(1, len(a[0]) - 1):\n",
    "            for k in range(1 , i + 1):\n",
    "                if a[k - 1][j] < a[k][j]:\n",
    "                    flag = 0\n",
    "                    break\n",
    "                else:\n",
    "                    flag = 1\n",
    "                    \n",
    "            if flag:\n",
    "                for k in range(i + 1, len(a)):\n",
    "                    if a[k - 1][j] > a[k][j]:\n",
    "                        flag = 0\n",
    "                        break\n",
    "                    else:\n",
    "                        flag = 1\n",
    "            \n",
    "            if flag:\n",
    "                for k in range(1, j + 1):\n",
    "                    if a[i][k - 1] < a[i][k]:\n",
    "                        flag = 0\n",
    "                        break\n",
    "                    else:\n",
    "                        flag = 1\n",
    "                        \n",
    "            if flag:\n",
    "                for k in range(j + 1, len(a[0])):\n",
    "                    if a[i][k - 1] > a[i][k]:\n",
    "                        flag = 0\n",
    "                        break\n",
    "                    else:\n",
    "                        flag = 1\n",
    "\n",
    "            if flag == 1:\n",
    "                L.append((i,j))\n",
    "    return L"
   ]
  },
  {
   "cell_type": "code",
   "execution_count": 3,
   "id": "b55233f7",
   "metadata": {},
   "outputs": [],
   "source": [
    "L = valley(a)"
   ]
  },
  {
   "cell_type": "code",
   "execution_count": 4,
   "id": "62335c1b",
   "metadata": {},
   "outputs": [
    {
     "name": "stdout",
     "output_type": "stream",
     "text": [
      "[(1, 2)]\n"
     ]
    }
   ],
   "source": [
    "if len(L) == 0:\n",
    "    print('No valley')\n",
    "else:\n",
    "    print(L)"
   ]
  }
 ],
 "metadata": {
  "kernelspec": {
   "display_name": "Python 3 (ipykernel)",
   "language": "python",
   "name": "python3"
  },
  "language_info": {
   "codemirror_mode": {
    "name": "ipython",
    "version": 3
   },
   "file_extension": ".py",
   "mimetype": "text/x-python",
   "name": "python",
   "nbconvert_exporter": "python",
   "pygments_lexer": "ipython3",
   "version": "3.9.7"
  }
 },
 "nbformat": 4,
 "nbformat_minor": 5
}
