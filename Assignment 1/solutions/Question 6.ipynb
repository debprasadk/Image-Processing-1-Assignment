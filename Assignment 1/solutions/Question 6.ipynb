{
 "cells": [
  {
   "cell_type": "markdown",
   "id": "1b85f8b3",
   "metadata": {},
   "source": [
    "# Create a nested dictionary containing marks obtained in five courses taken across two semesters. Calculate the grade point obtained in each of the two semesters."
   ]
  },
  {
   "cell_type": "code",
   "execution_count": 5,
   "id": "2c7bb8bd",
   "metadata": {},
   "outputs": [],
   "source": [
    "def sum(d):\n",
    "  s = 0 \n",
    "  for i in d.values():\n",
    "    s += i\n",
    "  return s"
   ]
  },
  {
   "cell_type": "markdown",
   "id": "ed202145",
   "metadata": {},
   "source": [
    "# Taking input"
   ]
  },
  {
   "cell_type": "code",
   "execution_count": 2,
   "id": "3f0df137",
   "metadata": {},
   "outputs": [
    {
     "name": "stdout",
     "output_type": "stream",
     "text": [
      "Enter the number of subject in 1st Sem : 5\n",
      "Subject in 1st sem : CN\n",
      "Number in CN in 1st sem : 96\n",
      "Subject in 1st sem : DM\n",
      "Number in DM in 1st sem : 76\n",
      "Subject in 1st sem : CL\n",
      "Number in CL in 1st sem : 72\n",
      "Subject in 1st sem : PS\n",
      "Number in PS in 1st sem : 100\n",
      "Subject in 1st sem : DFS\n",
      "Number in DFS in 1st sem : 80\n",
      "Enter the number of subject in 2nd Sem : 5\n",
      "Subject in 2nd sem : IR\n",
      "Number in IR in 2nd sem : 61\n",
      "Subject in 2nd sem : DAA\n",
      "Number in DAA in 2nd sem : 71\n",
      "Subject in 2nd sem : DBMS\n",
      "Number in DBMS in 2nd sem : 72\n",
      "Subject in 2nd sem : FODS\n",
      "Number in FODS in 2nd sem : 70\n",
      "Subject in 2nd sem : ML\n",
      "Number in ML in 2nd sem : 65\n"
     ]
    }
   ],
   "source": [
    "dict ={}\n",
    "First_Sem = {}\n",
    "Second_Sem = {}\n",
    "s = int(input(\"Enter the number of subject in 1st Sem : \"))\n",
    "for i in range(s):\n",
    "    a = input(\"Subject in 1st sem : \")\n",
    "    b = float(input(f\"Number in {a} in 1st sem : \"))\n",
    "    First_Sem[a] = b\n",
    "t = int(input(\"Enter the number of subject in 2nd Sem : \"))\n",
    "for i in range(t):\n",
    "    a = input(\"Subject in 2nd sem : \")\n",
    "    b = float(input(f\"Number in {a} in 2nd sem : \"))\n",
    "    Second_Sem[a] = b\n",
    "dict[\"First Sem\"] = First_Sem\n",
    "dict[\"Second Sem\"] = Second_Sem"
   ]
  },
  {
   "cell_type": "code",
   "execution_count": 3,
   "id": "34893eb5",
   "metadata": {},
   "outputs": [
    {
     "name": "stdout",
     "output_type": "stream",
     "text": [
      "{'First Sem': {'CN': 96.0, 'DM': 76.0, 'CL': 72.0, 'PS': 100.0, 'DFS': 80.0}, 'Second Sem': {'IR': 61.0, 'DAA': 71.0, 'DBMS': 72.0, 'FODS': 70.0, 'ML': 65.0}}\n"
     ]
    }
   ],
   "source": [
    "print(dict)"
   ]
  },
  {
   "cell_type": "markdown",
   "id": "1fb9a109",
   "metadata": {},
   "source": [
    "# Calculation"
   ]
  },
  {
   "cell_type": "code",
   "execution_count": 6,
   "id": "3c5b1df6",
   "metadata": {},
   "outputs": [],
   "source": [
    "Total_First_Sem = sum(dict['First Sem'])\n",
    "Total_Second_Sem = sum(dict['Second Sem'])\n",
    "First_Sem_grade_point = Total_First_Sem / len(dict[\"First Sem\"])\n",
    "Second_Sem_grade_point = Total_Second_Sem / len(dict[\"Second Sem\"])\n",
    "Total_grade = (Total_First_Sem + Total_Second_Sem) / (len(dict[\"First Sem\"]) + len(dict[\"Second Sem\"]))"
   ]
  },
  {
   "cell_type": "markdown",
   "id": "b12df531",
   "metadata": {},
   "source": [
    "# Output"
   ]
  },
  {
   "cell_type": "code",
   "execution_count": 7,
   "id": "dc503f89",
   "metadata": {},
   "outputs": [
    {
     "name": "stdout",
     "output_type": "stream",
     "text": [
      "424.0\n",
      "339.0\n"
     ]
    }
   ],
   "source": [
    "print(Total_First_Sem)\n",
    "print(Total_Second_Sem)"
   ]
  },
  {
   "cell_type": "code",
   "execution_count": 8,
   "id": "65ed36a9",
   "metadata": {},
   "outputs": [
    {
     "name": "stdout",
     "output_type": "stream",
     "text": [
      "Grade Point in First Sem is 84.8\n",
      "Grade Point in Second Sem is 67.8\n",
      "Grade Point in Two Sem is 76.3\n"
     ]
    }
   ],
   "source": [
    "print(f\"Grade Point in First Sem is {First_Sem_grade_point}\")\n",
    "print(f\"Grade Point in Second Sem is {Second_Sem_grade_point}\")\n",
    "print(f\"Grade Point in Two Sem is {Total_grade}\")"
   ]
  },
  {
   "cell_type": "code",
   "execution_count": null,
   "id": "b2a22b33",
   "metadata": {},
   "outputs": [],
   "source": []
  }
 ],
 "metadata": {
  "kernelspec": {
   "display_name": "Python 3 (ipykernel)",
   "language": "python",
   "name": "python3"
  },
  "language_info": {
   "codemirror_mode": {
    "name": "ipython",
    "version": 3
   },
   "file_extension": ".py",
   "mimetype": "text/x-python",
   "name": "python",
   "nbconvert_exporter": "python",
   "pygments_lexer": "ipython3",
   "version": "3.9.7"
  }
 },
 "nbformat": 4,
 "nbformat_minor": 5
}
