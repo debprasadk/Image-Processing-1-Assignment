{
 "cells": [
  {
   "cell_type": "markdown",
   "id": "627b6923",
   "metadata": {},
   "source": [
    "# Accept a 1D array as an input from the user. Arrange the elements such that all the positive integers must be present in the beginning of the array"
   ]
  },
  {
   "cell_type": "markdown",
   "id": "3931cee4",
   "metadata": {},
   "source": []
  },
  {
   "cell_type": "markdown",
   "id": "a77050ca",
   "metadata": {},
   "source": [
    "# Taking input"
   ]
  },
  {
   "cell_type": "code",
   "execution_count": 1,
   "id": "64b02467",
   "metadata": {},
   "outputs": [
    {
     "name": "stdout",
     "output_type": "stream",
     "text": [
      "Enter numbers seperated by ',': 1,3,-5,-9,8,-7,10, 14,-15.9,-16,100\n",
      "[1.0, 3.0, -5.0, -9.0, 8.0, -7.0, 10.0, 14.0, -15.9, -16.0, 100.0]\n"
     ]
    }
   ],
   "source": [
    "L = list(map(float, (input(\"Enter numbers seperated by ',': \").split(','))))\n",
    "print(L)"
   ]
  },
  {
   "cell_type": "markdown",
   "id": "fa2fc44b",
   "metadata": {},
   "source": [
    "# Calculation"
   ]
  },
  {
   "cell_type": "markdown",
   "id": "3d6f8538",
   "metadata": {},
   "source": [
    "Space Complexity O(n), Time Complexity O(n)"
   ]
  },
  {
   "cell_type": "code",
   "execution_count": 2,
   "id": "e1e22a26",
   "metadata": {},
   "outputs": [],
   "source": [
    "i = 0\n",
    "negetive_output = []\n",
    "positive_output = []\n",
    "while i < len(L):\n",
    "    if L[i] < 0:\n",
    "        negetive_output.append(L[i])\n",
    "    else:\n",
    "        positive_output.append(L[i])\n",
    "    i = i + 1\n",
    "output = positive_output + negetive_output"
   ]
  },
  {
   "cell_type": "code",
   "execution_count": 3,
   "id": "89554c2f",
   "metadata": {},
   "outputs": [
    {
     "name": "stdout",
     "output_type": "stream",
     "text": [
      "[1.0, 3.0, 8.0, 10.0, 14.0, 100.0, -5.0, -9.0, -7.0, -15.9, -16.0]\n"
     ]
    }
   ],
   "source": [
    "print(output)"
   ]
  },
  {
   "cell_type": "markdown",
   "id": "e0e0e6bc",
   "metadata": {},
   "source": [
    "Inplace operation(Space Complexity O(1), Time Complexity O(n^2))"
   ]
  },
  {
   "cell_type": "code",
   "execution_count": 4,
   "id": "90332881",
   "metadata": {},
   "outputs": [],
   "source": [
    "import numpy as np"
   ]
  },
  {
   "cell_type": "code",
   "execution_count": 5,
   "id": "f3bd5081",
   "metadata": {},
   "outputs": [
    {
     "name": "stdout",
     "output_type": "stream",
     "text": [
      "[  1.    3.   -5.   -9.    8.   -7.   10.   14.  -15.9 -16.  100. ]\n"
     ]
    }
   ],
   "source": [
    "arr = np.array(list(map(float, L)))\n",
    "print(arr)"
   ]
  },
  {
   "cell_type": "code",
   "execution_count": 6,
   "id": "ea3d8fe1",
   "metadata": {},
   "outputs": [],
   "source": [
    "for j in range(len(arr)):\n",
    "    i = 0\n",
    "    while i < len(arr) - 1:\n",
    "        if arr[i] < 0:\n",
    "            arr[i], arr[i + 1] = arr[i + 1], arr[i]\n",
    "        i = i + 1"
   ]
  },
  {
   "cell_type": "code",
   "execution_count": 7,
   "id": "0e1b4f22",
   "metadata": {},
   "outputs": [
    {
     "name": "stdout",
     "output_type": "stream",
     "text": [
      "[  1.    3.    8.   10.   14.  100.   -9.   -7.  -15.9 -16.   -5. ]\n"
     ]
    }
   ],
   "source": [
    "print(arr)"
   ]
  },
  {
   "cell_type": "code",
   "execution_count": null,
   "id": "c3cb2b55",
   "metadata": {},
   "outputs": [],
   "source": []
  }
 ],
 "metadata": {
  "kernelspec": {
   "display_name": "Python 3 (ipykernel)",
   "language": "python",
   "name": "python3"
  },
  "language_info": {
   "codemirror_mode": {
    "name": "ipython",
    "version": 3
   },
   "file_extension": ".py",
   "mimetype": "text/x-python",
   "name": "python",
   "nbconvert_exporter": "python",
   "pygments_lexer": "ipython3",
   "version": "3.9.7"
  }
 },
 "nbformat": 4,
 "nbformat_minor": 5
}
