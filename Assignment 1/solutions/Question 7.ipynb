{
 "cells": [
  {
   "cell_type": "markdown",
   "id": "a1a9bd9b",
   "metadata": {},
   "source": [
    "# Accept a 1D array as an input from the user. Arrange the elements such that all the positive integers must be present in the beginning of the array"
   ]
  },
  {
   "cell_type": "markdown",
   "id": "a77050ca",
   "metadata": {},
   "source": [
    "# Taking input"
   ]
  },
  {
   "cell_type": "code",
   "execution_count": 10,
   "id": "64b02467",
   "metadata": {},
   "outputs": [
    {
     "name": "stdout",
     "output_type": "stream",
     "text": [
      "Enter numbers seperated by ',': 1,3,-5,-9,8,-7,10, 0, 14,-15.9,-16,100, 0\n",
      "[1.0, 3.0, -5.0, -9.0, 8.0, -7.0, 10.0, 0.0, 14.0, -15.9, -16.0, 100.0, 0.0]\n"
     ]
    }
   ],
   "source": [
    "L = list(map(float, (input(\"Enter numbers seperated by ',': \").split(','))))\n",
    "print(L)"
   ]
  },
  {
   "cell_type": "markdown",
   "id": "fa2fc44b",
   "metadata": {},
   "source": [
    "# Calculation"
   ]
  },
  {
   "cell_type": "markdown",
   "id": "3d6f8538",
   "metadata": {},
   "source": [
    "Space Complexity O(n), Time Complexity O(n)"
   ]
  },
  {
   "cell_type": "code",
   "execution_count": 11,
   "id": "e1e22a26",
   "metadata": {},
   "outputs": [],
   "source": [
    "i = 0\n",
    "negetive_output = []\n",
    "positive_output = []\n",
    "zero_output = []\n",
    "while i < len(L):\n",
    "    if L[i] < 0:\n",
    "        negetive_output.append(L[i])\n",
    "    elif L[i] == 0:\n",
    "        zero_output.append(L[i])\n",
    "    else:\n",
    "        positive_output.append(L[i])\n",
    "    i = i + 1\n",
    "output = positive_output + zero_output + negetive_output"
   ]
  },
  {
   "cell_type": "code",
   "execution_count": 12,
   "id": "89554c2f",
   "metadata": {},
   "outputs": [
    {
     "name": "stdout",
     "output_type": "stream",
     "text": [
      "[1.0, 3.0, 8.0, 10.0, 14.0, 100.0, 0.0, 0.0, -5.0, -9.0, -7.0, -15.9, -16.0]\n"
     ]
    }
   ],
   "source": [
    "print(output)"
   ]
  },
  {
   "cell_type": "code",
   "execution_count": null,
   "id": "c3cb2b55",
   "metadata": {},
   "outputs": [],
   "source": []
  }
 ],
 "metadata": {
  "kernelspec": {
   "display_name": "Python 3 (ipykernel)",
   "language": "python",
   "name": "python3"
  },
  "language_info": {
   "codemirror_mode": {
    "name": "ipython",
    "version": 3
   },
   "file_extension": ".py",
   "mimetype": "text/x-python",
   "name": "python",
   "nbconvert_exporter": "python",
   "pygments_lexer": "ipython3",
   "version": "3.9.7"
  }
 },
 "nbformat": 4,
 "nbformat_minor": 5
}
