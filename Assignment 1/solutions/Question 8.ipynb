{
 "cells": [
  {
   "cell_type": "markdown",
   "id": "efe293f9",
   "metadata": {},
   "source": [
    "# Swap a 2D array about its principal diagonal"
   ]
  },
  {
   "cell_type": "markdown",
   "id": "3e8460fd",
   "metadata": {},
   "source": []
  },
  {
   "cell_type": "markdown",
   "id": "a0061e4c",
   "metadata": {},
   "source": [
    "# Required libraries"
   ]
  },
  {
   "cell_type": "code",
   "execution_count": 1,
   "id": "3637b5c5",
   "metadata": {},
   "outputs": [],
   "source": [
    "from math import sqrt"
   ]
  },
  {
   "cell_type": "markdown",
   "id": "c296a925",
   "metadata": {},
   "source": [
    "# Taking input"
   ]
  },
  {
   "cell_type": "code",
   "execution_count": 2,
   "id": "05524a3a",
   "metadata": {},
   "outputs": [
    {
     "name": "stdout",
     "output_type": "stream",
     "text": [
      "1,2,3,4,5,6,7,8,9\n",
      "[1.0, 2.0, 3.0, 4.0, 5.0, 6.0, 7.0, 8.0, 9.0]\n"
     ]
    }
   ],
   "source": [
    "m = input().split(\",\")\n",
    "l = list(map(float , m))\n",
    "print(l)"
   ]
  },
  {
   "cell_type": "markdown",
   "id": "7f878168",
   "metadata": {},
   "source": [
    "# Calculation"
   ]
  },
  {
   "cell_type": "markdown",
   "id": "8d131068",
   "metadata": {},
   "source": [
    "Using function for square matrix"
   ]
  },
  {
   "cell_type": "code",
   "execution_count": 3,
   "id": "9a8665db",
   "metadata": {},
   "outputs": [],
   "source": [
    "s = int(sqrt(len(l)))\n",
    "A, O = [], []\n",
    "for i in range(s):\n",
    "    a = []\n",
    "    b = []\n",
    "    for j in range (s):\n",
    "        a.append(l[s*i + j])\n",
    "        b.append(0)\n",
    "    A.append(a)\n",
    "    O.append(b)"
   ]
  },
  {
   "cell_type": "code",
   "execution_count": 4,
   "id": "991e08c7",
   "metadata": {},
   "outputs": [],
   "source": [
    "for i in range(s):\n",
    "    for j in range(s):\n",
    "        O[i][j] = A[j][i]"
   ]
  },
  {
   "cell_type": "code",
   "execution_count": 5,
   "id": "333b9d2f",
   "metadata": {},
   "outputs": [
    {
     "name": "stdout",
     "output_type": "stream",
     "text": [
      "[[1.0, 4.0, 7.0], [2.0, 5.0, 8.0], [3.0, 6.0, 9.0]]\n",
      "[1.0, 4.0, 7.0]\n",
      "[2.0, 5.0, 8.0]\n",
      "[3.0, 6.0, 9.0]\n"
     ]
    }
   ],
   "source": [
    "print(O)\n",
    "for i in O:\n",
    "    print(i)"
   ]
  },
  {
   "cell_type": "code",
   "execution_count": null,
   "id": "8466ee89",
   "metadata": {},
   "outputs": [],
   "source": []
  },
  {
   "cell_type": "markdown",
   "id": "a1424e35",
   "metadata": {},
   "source": [
    "Using Transpose function"
   ]
  },
  {
   "cell_type": "code",
   "execution_count": 6,
   "id": "3055a71f",
   "metadata": {},
   "outputs": [],
   "source": [
    "import numpy as np"
   ]
  },
  {
   "cell_type": "code",
   "execution_count": 7,
   "id": "1ef17088",
   "metadata": {},
   "outputs": [],
   "source": [
    "A = np.array(l).reshape(s, s)\n",
    "B = A.transpose()"
   ]
  },
  {
   "cell_type": "code",
   "execution_count": 8,
   "id": "f6644f09",
   "metadata": {},
   "outputs": [
    {
     "name": "stdout",
     "output_type": "stream",
     "text": [
      "[[1. 4. 7.]\n",
      " [2. 5. 8.]\n",
      " [3. 6. 9.]]\n"
     ]
    }
   ],
   "source": [
    "print(B)"
   ]
  },
  {
   "cell_type": "code",
   "execution_count": null,
   "id": "28371992",
   "metadata": {},
   "outputs": [],
   "source": []
  }
 ],
 "metadata": {
  "kernelspec": {
   "display_name": "Python 3 (ipykernel)",
   "language": "python",
   "name": "python3"
  },
  "language_info": {
   "codemirror_mode": {
    "name": "ipython",
    "version": 3
   },
   "file_extension": ".py",
   "mimetype": "text/x-python",
   "name": "python",
   "nbconvert_exporter": "python",
   "pygments_lexer": "ipython3",
   "version": "3.9.7"
  }
 },
 "nbformat": 4,
 "nbformat_minor": 5
}
